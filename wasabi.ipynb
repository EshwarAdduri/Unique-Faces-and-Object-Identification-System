{
 "cells": [
  {
   "cell_type": "code",
   "execution_count": null,
   "metadata": {},
   "outputs": [
    {
     "name": "stdout",
     "output_type": "stream",
     "text": [
      "File 'Videos/video2.mp4' uploaded successfully to bucket 'loadfiledownloads'.\n"
     ]
    }
   ],
   "source": [
    "import boto3\n",
    "import os\n",
    "from botocore.exceptions import NoCredentialsError, PartialCredentialsError\n",
    "import config  # Import config to access the credentials\n",
    "\n",
    "# Initialize the Wasabi S3 client using credentials from the config file\n",
    "s3_client = boto3.client(\n",
    "    's3',\n",
    "    endpoint_url='https://s3.wasabisys.com',  # Wasabi's S3 endpoint\n",
    "    aws_access_key_id=config.access_key,  # Access key from config.py\n",
    "    aws_secret_access_key=config.secret_key  # Secret key from config.py\n",
    ")\n",
    "\n",
    "# Specify the bucket name and folder details\n",
    "bucket_name = \"loadfiledownloads\"  # Replace with your bucket name\n",
    "folder_path = \"C:/Greg-Galvin-Unique-Faces-and-Object-Identification/videos\"  # Replace with the path to your folder containing images/videos\n",
    "bucket_subfolder = \"Videos\"  # The subfolder in the bucket where images will be uploaded\n",
    " \n",
    "# Function to upload a folder\n",
    "def upload_folder_to_subfolder(folder_path, bucket_name, bucket_subfolder):\n",
    "    try:\n",
    "        # Walk through each file in the folder\n",
    "        for root, dirs, files in os.walk(folder_path):\n",
    "            for file_name in files:\n",
    "                # Full local file path\n",
    "                local_file_path = os.path.join(root, file_name)\n",
    "                \n",
    "                # Object key path for the file (includes subfolder path)\n",
    "                relative_path = os.path.relpath(local_file_path, folder_path)\n",
    "                object_key = f\"{bucket_subfolder}/{relative_path}\"\n",
    "\n",
    "                # Upload the file\n",
    "                s3_client.upload_file(local_file_path, bucket_name, object_key)\n",
    "                print(f\"File '{object_key}' uploaded successfully to bucket '{bucket_name}'.\")\n",
    "\n",
    "    except FileNotFoundError:\n",
    "        print(\"The specified file or folder was not found.\")\n",
    "    except NoCredentialsError:\n",
    "        print(\"Credentials not available.\")\n",
    "    except PartialCredentialsError:\n",
    "        print(\"Incomplete credentials provided.\")\n",
    "    except Exception as e:\n",
    "        print(f\"An error occurred: {e}\")\n",
    "\n",
    "# Call the function to upload the folder to the subfolder\n",
    "upload_folder_to_subfolder(folder_path, bucket_name, bucket_subfolder)\n",
    "  "
   ]
  },
  {
   "cell_type": "code",
   "execution_count": 1,
   "metadata": {},
   "outputs": [
    {
     "name": "stdout",
     "output_type": "stream",
     "text": [
      "[INFO] File 'yolov3.h5' uploaded successfully to bucket 'loadfiledownloads' at 'Model/yolov3.h5'.\n"
     ]
    }
   ],
   "source": [
    "import boto3\n",
    "import os\n",
    "from botocore.exceptions import NoCredentialsError, PartialCredentialsError\n",
    "import config  # Import config to access your credentials\n",
    "\n",
    "# Initialize the Wasabi S3 client using credentials from the config file\n",
    "s3_client = boto3.client(\n",
    "    's3',\n",
    "    endpoint_url='https://s3.wasabisys.com',  # Wasabi's S3 endpoint\n",
    "    aws_access_key_id=config.access_key,     # Access key from config.py\n",
    "    aws_secret_access_key=config.secret_key  # Secret key from config.py\n",
    ")\n",
    "\n",
    "# Configuration\n",
    "bucket_name = \"loadfiledownloads\"  # Wasabi bucket name\n",
    "local_model_path = \"C:/Greg-Galvin-Unique-Faces-and-Object-Identification/Object_detection/model/yolov3.h5\"  # Path to the local model file\n",
    "bucket_subfolder = \"Model\"  # Folder name in the bucket where the file will be saved\n",
    "\n",
    "# Function to upload the model file\n",
    "def upload_file_to_bucket(file_path, bucket_name, bucket_subfolder):\n",
    "    try:\n",
    "        # Extract the file name from the path\n",
    "        file_name = os.path.basename(file_path)\n",
    "        \n",
    "        # Define the key path in the bucket\n",
    "        object_key = f\"{bucket_subfolder}/{file_name}\"\n",
    "        \n",
    "        # Upload the file to the Wasabi bucket\n",
    "        s3_client.upload_file(file_path, bucket_name, object_key)\n",
    "        print(f\"[INFO] File '{file_name}' uploaded successfully to bucket '{bucket_name}' at '{object_key}'.\")\n",
    "    \n",
    "    except FileNotFoundError:\n",
    "        print(\"[ERROR] The specified file was not found.\")\n",
    "    except NoCredentialsError:\n",
    "        print(\"[ERROR] Credentials not available.\")\n",
    "    except PartialCredentialsError:\n",
    "        print(\"[ERROR] Incomplete credentials provided.\")\n",
    "    except Exception as e:\n",
    "        print(f\"[ERROR] An error occurred: {e}\")\n",
    "\n",
    "# Upload the YOLOv3 model to Wasabi\n",
    "if __name__ == \"__main__\":\n",
    "    upload_file_to_bucket(local_model_path, bucket_name, bucket_subfolder)\n"
   ]
  },
  {
   "cell_type": "code",
   "execution_count": null,
   "metadata": {},
   "outputs": [],
   "source": []
  }
 ],
 "metadata": {
  "kernelspec": {
   "display_name": "venv",
   "language": "python",
   "name": "python3"
  },
  "language_info": {
   "codemirror_mode": {
    "name": "ipython",
    "version": 3
   },
   "file_extension": ".py",
   "mimetype": "text/x-python",
   "name": "python",
   "nbconvert_exporter": "python",
   "pygments_lexer": "ipython3",
   "version": "3.12.4"
  }
 },
 "nbformat": 4,
 "nbformat_minor": 2
}
